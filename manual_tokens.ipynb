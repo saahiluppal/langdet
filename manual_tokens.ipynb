{
 "cells": [
  {
   "cell_type": "code",
   "execution_count": 38,
   "metadata": {},
   "outputs": [],
   "source": [
    "import pandas as pd\n",
    "import numpy as np\n",
    "import os\n",
    "import re\n",
    "from nltk.tokenize import sent_tokenize"
   ]
  },
  {
   "cell_type": "code",
   "execution_count": 39,
   "metadata": {},
   "outputs": [],
   "source": [
    "languages = {\n",
    "    0: 'Danish', 1: 'German',\n",
    "    2: 'Greek', 3: 'English',\n",
    "    4: 'Spanish', 5: 'Finnish',\n",
    "    6: 'French', 7: 'Italian',\n",
    "    8: 'Dutch', 9: 'Portuguese',\n",
    "    10: 'Swedish', 11: 'Bulgarian',\n",
    "    12: 'Czech', 13: 'Estonian',\n",
    "    14: 'Hungarian', 15: 'Lithuanian',\n",
    "    16: 'Latvian', 17: 'Polish',\n",
    "    18: 'Romanian', 19: 'Slovak',\n",
    "    20: 'Slovenian'\n",
    "}"
   ]
  },
  {
   "cell_type": "code",
   "execution_count": 40,
   "metadata": {},
   "outputs": [],
   "source": [
    "def extract_language(language):\n",
    "    with open(os.getcwd() + '/dataset/' + language +\".txt\") as outfile:\n",
    "        lang = outfile.read()\n",
    "    return lang.lower()\n",
    "\n",
    "def clean(language):\n",
    "    pattern = r'<(!?).*>'    \n",
    "    \n",
    "    language = re.sub(pattern, '', language)\n",
    "    \n",
    "    language = ''.join([i for i in language if not i.isdigit()])\n",
    "    language = ''.join([i for i in language if i not in \"(){}[]\\n,'\"])\n",
    "    \n",
    "    language = sent_tokenize(language)\n",
    "    language = [i for i in language if len(i)> 4]\n",
    "    return language\n",
    "    \n",
    "def stack(sentences, langauge_id, language):\n",
    "    length = len(sentences)\n",
    "    \n",
    "    target = [langauge_id] * length\n",
    "    lang = [language] * length\n",
    "    \n",
    "    df = pd.DataFrame(np.c_[sentences, target, lang], columns=['Sentences','Target', 'Language'])\n",
    "    return df\n",
    "\n",
    "def shuffle(dataframe):\n",
    "    return dataframe.sample(frac=1).reset_index(drop=True)\n",
    "\n",
    "def preprocess():\n",
    "    data = pd.DataFrame([])\n",
    "    for code,language in languages.items():\n",
    "        extracted = extract_language(language.lower())\n",
    "        cleaned = clean(extracted)\n",
    "        dataframe = stack(cleaned, code, language)\n",
    "        \n",
    "        data = data.append(dataframe, ignore_index=True)\n",
    "    data = shuffle(data)\n",
    "    data['Target'] = data['Target'].astype(int)\n",
    "    return data"
   ]
  },
  {
   "cell_type": "code",
   "execution_count": 59,
   "metadata": {},
   "outputs": [],
   "source": [
    "def total_lines():\n",
    "    sum = 0\n",
    "    for code, lang in languages.items():\n",
    "        extracted = extract_language(lang.lower())\n",
    "        cleaned = clean(extracted)\n",
    "        sum += len(cleaned)\n",
    "    return sum"
   ]
  },
  {
   "cell_type": "code",
   "execution_count": 60,
   "metadata": {},
   "outputs": [
    {
     "data": {
      "text/plain": [
       "11988"
      ]
     },
     "execution_count": 60,
     "metadata": {},
     "output_type": "execute_result"
    }
   ],
   "source": [
    "total_lines()"
   ]
  },
  {
   "cell_type": "code",
   "execution_count": 61,
   "metadata": {},
   "outputs": [],
   "source": [
    "data = preprocess()"
   ]
  },
  {
   "cell_type": "code",
   "execution_count": 62,
   "metadata": {},
   "outputs": [
    {
     "data": {
      "text/html": [
       "<div>\n",
       "<style scoped>\n",
       "    .dataframe tbody tr th:only-of-type {\n",
       "        vertical-align: middle;\n",
       "    }\n",
       "\n",
       "    .dataframe tbody tr th {\n",
       "        vertical-align: top;\n",
       "    }\n",
       "\n",
       "    .dataframe thead th {\n",
       "        text-align: right;\n",
       "    }\n",
       "</style>\n",
       "<table border=\"1\" class=\"dataframe\">\n",
       "  <thead>\n",
       "    <tr style=\"text-align: right;\">\n",
       "      <th></th>\n",
       "      <th>Sentences</th>\n",
       "      <th>Target</th>\n",
       "      <th>Language</th>\n",
       "    </tr>\n",
       "  </thead>\n",
       "  <tbody>\n",
       "    <tr>\n",
       "      <th>0</th>\n",
       "      <td>- gospod predsednik zahvaljujem se parlamentu ...</td>\n",
       "      <td>20</td>\n",
       "      <td>Slovenian</td>\n",
       "    </tr>\n",
       "    <tr>\n",
       "      <th>1</th>\n",
       "      <td>não têm de momento capacidade para continuar a...</td>\n",
       "      <td>9</td>\n",
       "      <td>Portuguese</td>\n",
       "    </tr>\n",
       "    <tr>\n",
       "      <th>2</th>\n",
       "      <td>zasadnutí konferencie osn o obchode a rozvoji ...</td>\n",
       "      <td>19</td>\n",
       "      <td>Slovak</td>\n",
       "    </tr>\n",
       "    <tr>\n",
       "      <th>3</th>\n",
       "      <td>to není nejlepší vizitka evropského zemědělstv...</td>\n",
       "      <td>12</td>\n",
       "      <td>Czech</td>\n",
       "    </tr>\n",
       "    <tr>\n",
       "      <th>4</th>\n",
       "      <td>je suis sûre que certains dentre vous au moins...</td>\n",
       "      <td>6</td>\n",
       "      <td>French</td>\n",
       "    </tr>\n",
       "    <tr>\n",
       "      <th>...</th>\n",
       "      <td>...</td>\n",
       "      <td>...</td>\n",
       "      <td>...</td>\n",
       "    </tr>\n",
       "    <tr>\n",
       "      <th>11983</th>\n",
       "      <td>είναι ιδιαιτέρως ανησυχητικό το γεγονός ότι αν...</td>\n",
       "      <td>2</td>\n",
       "      <td>Greek</td>\n",
       "    </tr>\n",
       "    <tr>\n",
       "      <th>11984</th>\n",
       "      <td>można wiele uczynić aby utrzymać impet niedawn...</td>\n",
       "      <td>17</td>\n",
       "      <td>Polish</td>\n",
       "    </tr>\n",
       "    <tr>\n",
       "      <th>11985</th>\n",
       "      <td>dit geeft geen al te best beeld van de europes...</td>\n",
       "      <td>8</td>\n",
       "      <td>Dutch</td>\n",
       "    </tr>\n",
       "    <tr>\n",
       "      <th>11986</th>\n",
       "      <td>holms betænkning om handel med råmaterialer og...</td>\n",
       "      <td>0</td>\n",
       "      <td>Danish</td>\n",
       "    </tr>\n",
       "    <tr>\n",
       "      <th>11987</th>\n",
       "      <td>ni kan tänka er hur nöjd jag blir när jag hör ...</td>\n",
       "      <td>10</td>\n",
       "      <td>Swedish</td>\n",
       "    </tr>\n",
       "  </tbody>\n",
       "</table>\n",
       "<p>11988 rows × 3 columns</p>\n",
       "</div>"
      ],
      "text/plain": [
       "                                               Sentences  Target    Language\n",
       "0      - gospod predsednik zahvaljujem se parlamentu ...      20   Slovenian\n",
       "1      não têm de momento capacidade para continuar a...       9  Portuguese\n",
       "2      zasadnutí konferencie osn o obchode a rozvoji ...      19      Slovak\n",
       "3      to není nejlepší vizitka evropského zemědělstv...      12       Czech\n",
       "4      je suis sûre que certains dentre vous au moins...       6      French\n",
       "...                                                  ...     ...         ...\n",
       "11983  είναι ιδιαιτέρως ανησυχητικό το γεγονός ότι αν...       2       Greek\n",
       "11984  można wiele uczynić aby utrzymać impet niedawn...      17      Polish\n",
       "11985  dit geeft geen al te best beeld van de europes...       8       Dutch\n",
       "11986  holms betænkning om handel med råmaterialer og...       0      Danish\n",
       "11987  ni kan tänka er hur nöjd jag blir när jag hör ...      10     Swedish\n",
       "\n",
       "[11988 rows x 3 columns]"
      ]
     },
     "execution_count": 62,
     "metadata": {},
     "output_type": "execute_result"
    }
   ],
   "source": [
    "data"
   ]
  },
  {
   "cell_type": "code",
   "execution_count": 63,
   "metadata": {},
   "outputs": [],
   "source": [
    "import tensorflow as tf\n",
    "from sklearn.preprocessing import LabelEncoder"
   ]
  },
  {
   "cell_type": "code",
   "execution_count": 64,
   "metadata": {},
   "outputs": [
    {
     "data": {
      "text/plain": [
       "20"
      ]
     },
     "execution_count": 64,
     "metadata": {},
     "output_type": "execute_result"
    }
   ],
   "source": [
    "data['Target'].max()"
   ]
  },
  {
   "cell_type": "code",
   "execution_count": 65,
   "metadata": {},
   "outputs": [
    {
     "data": {
      "text/plain": [
       "0        20\n",
       "1         9\n",
       "2        19\n",
       "3        12\n",
       "4         6\n",
       "         ..\n",
       "11983     2\n",
       "11984    17\n",
       "11985     8\n",
       "11986     0\n",
       "11987    10\n",
       "Name: Target, Length: 11988, dtype: int64"
      ]
     },
     "execution_count": 65,
     "metadata": {},
     "output_type": "execute_result"
    }
   ],
   "source": [
    "#y = tf.keras.utils.to_categorical(data['Target'], num_classes=21)\n",
    "y = data['Target']\n",
    "y"
   ]
  },
  {
   "cell_type": "code",
   "execution_count": 66,
   "metadata": {},
   "outputs": [],
   "source": [
    "tok = tf.keras.preprocessing.text.Tokenizer()"
   ]
  },
  {
   "cell_type": "code",
   "execution_count": 67,
   "metadata": {},
   "outputs": [],
   "source": [
    "tok.fit_on_texts(data['Sentences'])"
   ]
  },
  {
   "cell_type": "code",
   "execution_count": 68,
   "metadata": {},
   "outputs": [],
   "source": [
    "texts = tok.texts_to_sequences(data['Sentences'])"
   ]
  },
  {
   "cell_type": "code",
   "execution_count": 69,
   "metadata": {},
   "outputs": [
    {
     "data": {
      "text/plain": [
       "73244"
      ]
     },
     "execution_count": 69,
     "metadata": {},
     "output_type": "execute_result"
    }
   ],
   "source": [
    "vocab = len(tok.word_index) + 1\n",
    "vocab"
   ]
  },
  {
   "cell_type": "code",
   "execution_count": null,
   "metadata": {},
   "outputs": [],
   "source": []
  },
  {
   "cell_type": "code",
   "execution_count": 70,
   "metadata": {},
   "outputs": [],
   "source": [
    "pad = tf.keras.preprocessing.sequence.pad_sequences(texts,maxlen=(60))"
   ]
  },
  {
   "cell_type": "code",
   "execution_count": 81,
   "metadata": {},
   "outputs": [],
   "source": [
    "tf.keras.backend.clear_session()\n",
    "model = tf.keras.models.Sequential([\n",
    "    tf.keras.layers.Embedding(input_dim=vocab,\n",
    "                              output_dim=64,\n",
    "                             input_length=60),\n",
    "    #tf.keras.layers.LSTM(200),\n",
    "    tf.keras.layers.BatchNormalization(),\n",
    "    tf.keras.layers.Flatten(),\n",
    "    tf.keras.layers.Dense(21, activation=tf.nn.softmax)\n",
    "])"
   ]
  },
  {
   "cell_type": "code",
   "execution_count": 82,
   "metadata": {},
   "outputs": [
    {
     "name": "stdout",
     "output_type": "stream",
     "text": [
      "Model: \"sequential\"\n",
      "_________________________________________________________________\n",
      "Layer (type)                 Output Shape              Param #   \n",
      "=================================================================\n",
      "embedding (Embedding)        (None, 60, 64)            4687616   \n",
      "_________________________________________________________________\n",
      "batch_normalization (BatchNo (None, 60, 64)            256       \n",
      "_________________________________________________________________\n",
      "flatten (Flatten)            (None, 3840)              0         \n",
      "_________________________________________________________________\n",
      "dense (Dense)                (None, 21)                80661     \n",
      "=================================================================\n",
      "Total params: 4,768,533\n",
      "Trainable params: 4,768,405\n",
      "Non-trainable params: 128\n",
      "_________________________________________________________________\n"
     ]
    }
   ],
   "source": [
    "model.summary()"
   ]
  },
  {
   "cell_type": "code",
   "execution_count": 83,
   "metadata": {},
   "outputs": [],
   "source": [
    "model.compile(optimizer='adam', loss='sparse_categorical_crossentropy', metrics=['accuracy'])"
   ]
  },
  {
   "cell_type": "code",
   "execution_count": 84,
   "metadata": {},
   "outputs": [],
   "source": [
    "from sklearn.model_selection import train_test_split"
   ]
  },
  {
   "cell_type": "code",
   "execution_count": 85,
   "metadata": {},
   "outputs": [],
   "source": [
    "X_train, X_test, y_train, y_test = train_test_split(pad, np.array(y), test_size=0.1, random_state=42)"
   ]
  },
  {
   "cell_type": "code",
   "execution_count": 86,
   "metadata": {
    "scrolled": true
   },
   "outputs": [
    {
     "name": "stdout",
     "output_type": "stream",
     "text": [
      "Train on 10789 samples, validate on 1199 samples\n",
      "Epoch 1/100\n",
      "10789/10789 [==============================] - 2s 227us/sample - loss: 2.7890 - accuracy: 0.1921 - val_loss: 2.9795 - val_accuracy: 0.3812\n",
      "Epoch 2/100\n",
      "10789/10789 [==============================] - 2s 186us/sample - loss: 0.7266 - accuracy: 0.9188 - val_loss: 2.8667 - val_accuracy: 0.7306\n",
      "Epoch 3/100\n",
      "10789/10789 [==============================] - 2s 188us/sample - loss: 0.2081 - accuracy: 0.9902 - val_loss: 2.7689 - val_accuracy: 0.8382\n",
      "Epoch 4/100\n",
      "10789/10789 [==============================] - 2s 190us/sample - loss: 0.0879 - accuracy: 0.9974 - val_loss: 2.6955 - val_accuracy: 0.8699\n",
      "Epoch 5/100\n",
      "10789/10789 [==============================] - 2s 185us/sample - loss: 0.0472 - accuracy: 0.9987 - val_loss: 2.6285 - val_accuracy: 0.9008\n",
      "Epoch 6/100\n",
      "10789/10789 [==============================] - 2s 185us/sample - loss: 0.0288 - accuracy: 0.9994 - val_loss: 2.5620 - val_accuracy: 0.9016\n",
      "Epoch 7/100\n",
      "10789/10789 [==============================] - 4s 329us/sample - loss: 0.0196 - accuracy: 0.9997 - val_loss: 2.4902 - val_accuracy: 0.9116\n",
      "Epoch 8/100\n",
      "10789/10789 [==============================] - 2s 190us/sample - loss: 0.0141 - accuracy: 0.9997 - val_loss: 2.4144 - val_accuracy: 0.9216\n",
      "Epoch 9/100\n",
      "10789/10789 [==============================] - 2s 199us/sample - loss: 0.0106 - accuracy: 0.9996 - val_loss: 2.3311 - val_accuracy: 0.9274\n",
      "Epoch 10/100\n",
      "10789/10789 [==============================] - 2s 195us/sample - loss: 0.0082 - accuracy: 0.9997 - val_loss: 2.2404 - val_accuracy: 0.9258\n",
      "Epoch 11/100\n",
      "10789/10789 [==============================] - 2s 199us/sample - loss: 0.0067 - accuracy: 0.9996 - val_loss: 2.1421 - val_accuracy: 0.9299\n",
      "Epoch 12/100\n",
      "10789/10789 [==============================] - 2s 198us/sample - loss: 0.0055 - accuracy: 0.9997 - val_loss: 2.0368 - val_accuracy: 0.9316\n",
      "Epoch 13/100\n",
      "10789/10789 [==============================] - 2s 197us/sample - loss: 0.0047 - accuracy: 0.9996 - val_loss: 1.9250 - val_accuracy: 0.9333\n",
      "Epoch 14/100\n",
      "10789/10789 [==============================] - 2s 190us/sample - loss: 0.0040 - accuracy: 0.9995 - val_loss: 1.8059 - val_accuracy: 0.9358\n",
      "Epoch 15/100\n",
      "10789/10789 [==============================] - 2s 192us/sample - loss: 0.0035 - accuracy: 0.9997 - val_loss: 1.6817 - val_accuracy: 0.9383\n",
      "Epoch 16/100\n",
      "10789/10789 [==============================] - 2s 192us/sample - loss: 0.0032 - accuracy: 0.9997 - val_loss: 1.5532 - val_accuracy: 0.9383\n",
      "Epoch 17/100\n",
      "10789/10789 [==============================] - 2s 193us/sample - loss: 0.0028 - accuracy: 0.9996 - val_loss: 1.4220 - val_accuracy: 0.9383\n",
      "Epoch 18/100\n",
      "10789/10789 [==============================] - 2s 192us/sample - loss: 0.0026 - accuracy: 0.9996 - val_loss: 1.2910 - val_accuracy: 0.9374\n",
      "Epoch 19/100\n",
      "10789/10789 [==============================] - 2s 187us/sample - loss: 0.0023 - accuracy: 0.9996 - val_loss: 1.1638 - val_accuracy: 0.9399\n",
      "Epoch 20/100\n",
      "10789/10789 [==============================] - 2s 189us/sample - loss: 0.0021 - accuracy: 0.9996 - val_loss: 1.0410 - val_accuracy: 0.9416\n",
      "Epoch 21/100\n",
      "10789/10789 [==============================] - 2s 189us/sample - loss: 0.0020 - accuracy: 0.9997 - val_loss: 0.9259 - val_accuracy: 0.9408\n",
      "Epoch 22/100\n",
      "10789/10789 [==============================] - 2s 186us/sample - loss: 0.0019 - accuracy: 0.9996 - val_loss: 0.8194 - val_accuracy: 0.9425\n",
      "Epoch 23/100\n",
      "10789/10789 [==============================] - 2s 187us/sample - loss: 0.0017 - accuracy: 0.9996 - val_loss: 0.7241 - val_accuracy: 0.9416\n",
      "Epoch 24/100\n",
      "10789/10789 [==============================] - 2s 189us/sample - loss: 0.0016 - accuracy: 0.9997 - val_loss: 0.6390 - val_accuracy: 0.9433\n",
      "Epoch 25/100\n",
      "10789/10789 [==============================] - 2s 193us/sample - loss: 0.0016 - accuracy: 0.9997 - val_loss: 0.5657 - val_accuracy: 0.9425\n",
      "Epoch 26/100\n",
      "10789/10789 [==============================] - 2s 193us/sample - loss: 0.0015 - accuracy: 0.9995 - val_loss: 0.5028 - val_accuracy: 0.9433\n",
      "Epoch 27/100\n",
      "10789/10789 [==============================] - 2s 187us/sample - loss: 0.0014 - accuracy: 0.9997 - val_loss: 0.4499 - val_accuracy: 0.9425\n",
      "Epoch 28/100\n",
      "10789/10789 [==============================] - 2s 188us/sample - loss: 0.0014 - accuracy: 0.9996 - val_loss: 0.4065 - val_accuracy: 0.9416\n",
      "Epoch 29/100\n",
      "10789/10789 [==============================] - 2s 187us/sample - loss: 0.0013 - accuracy: 0.9997 - val_loss: 0.3696 - val_accuracy: 0.9458\n",
      "Epoch 30/100\n",
      "10789/10789 [==============================] - 2s 186us/sample - loss: 0.0012 - accuracy: 0.9996 - val_loss: 0.3400 - val_accuracy: 0.9458\n",
      "Epoch 31/100\n",
      "10789/10789 [==============================] - 2s 188us/sample - loss: 0.0012 - accuracy: 0.9995 - val_loss: 0.3153 - val_accuracy: 0.9458\n",
      "Epoch 32/100\n",
      "10789/10789 [==============================] - 2s 189us/sample - loss: 0.0012 - accuracy: 0.9996 - val_loss: 0.2960 - val_accuracy: 0.9450\n",
      "Epoch 33/100\n",
      "10789/10789 [==============================] - 2s 187us/sample - loss: 0.0011 - accuracy: 0.9996 - val_loss: 0.2805 - val_accuracy: 0.9450\n",
      "Epoch 34/100\n",
      "10789/10789 [==============================] - 2s 187us/sample - loss: 0.0011 - accuracy: 0.9997 - val_loss: 0.2672 - val_accuracy: 0.9450\n",
      "Epoch 35/100\n",
      "10789/10789 [==============================] - 2s 187us/sample - loss: 9.9513e-04 - accuracy: 0.9996 - val_loss: 0.2562 - val_accuracy: 0.9450\n",
      "Epoch 36/100\n",
      "10789/10789 [==============================] - 2s 185us/sample - loss: 0.0010 - accuracy: 0.9995 - val_loss: 0.2479 - val_accuracy: 0.9441\n",
      "Epoch 37/100\n",
      "10789/10789 [==============================] - 2s 190us/sample - loss: 0.0010 - accuracy: 0.9996 - val_loss: 0.2408 - val_accuracy: 0.9450\n",
      "Epoch 38/100\n",
      "10789/10789 [==============================] - 2s 190us/sample - loss: 9.9636e-04 - accuracy: 0.9995 - val_loss: 0.2353 - val_accuracy: 0.9441\n",
      "Epoch 39/100\n",
      "10789/10789 [==============================] - 2s 188us/sample - loss: 9.4707e-04 - accuracy: 0.9995 - val_loss: 0.2305 - val_accuracy: 0.9450\n",
      "Epoch 40/100\n",
      "10789/10789 [==============================] - 2s 187us/sample - loss: 9.1051e-04 - accuracy: 0.9996 - val_loss: 0.2268 - val_accuracy: 0.9450\n",
      "Epoch 41/100\n",
      "10789/10789 [==============================] - 2s 188us/sample - loss: 8.8220e-04 - accuracy: 0.9997 - val_loss: 0.2229 - val_accuracy: 0.9450\n",
      "Epoch 42/100\n",
      "10789/10789 [==============================] - 2s 192us/sample - loss: 9.0533e-04 - accuracy: 0.9995 - val_loss: 0.2201 - val_accuracy: 0.9458\n",
      "Epoch 43/100\n",
      "10789/10789 [==============================] - 2s 191us/sample - loss: 8.5325e-04 - accuracy: 0.9998 - val_loss: 0.2185 - val_accuracy: 0.9441\n",
      "Epoch 44/100\n",
      "10789/10789 [==============================] - 2s 193us/sample - loss: 8.6171e-04 - accuracy: 0.9997 - val_loss: 0.2155 - val_accuracy: 0.9450\n",
      "Epoch 45/100\n",
      "10789/10789 [==============================] - 2s 188us/sample - loss: 8.2459e-04 - accuracy: 0.9995 - val_loss: 0.2133 - val_accuracy: 0.9466\n",
      "Epoch 46/100\n",
      "10789/10789 [==============================] - 2s 188us/sample - loss: 8.7525e-04 - accuracy: 0.9996 - val_loss: 0.2119 - val_accuracy: 0.9458\n",
      "Epoch 47/100\n",
      "10789/10789 [==============================] - 2s 187us/sample - loss: 7.7897e-04 - accuracy: 0.9997 - val_loss: 0.2103 - val_accuracy: 0.9458\n",
      "Epoch 48/100\n",
      "10789/10789 [==============================] - 2s 192us/sample - loss: 8.1298e-04 - accuracy: 0.9996 - val_loss: 0.2086 - val_accuracy: 0.9458\n",
      "Epoch 49/100\n",
      "10789/10789 [==============================] - 2s 189us/sample - loss: 8.5110e-04 - accuracy: 0.9995 - val_loss: 0.2077 - val_accuracy: 0.9458\n",
      "Epoch 50/100\n",
      "10789/10789 [==============================] - 2s 191us/sample - loss: 8.2294e-04 - accuracy: 0.9996 - val_loss: 0.2063 - val_accuracy: 0.9458\n",
      "Epoch 51/100\n",
      "10789/10789 [==============================] - 2s 196us/sample - loss: 7.8141e-04 - accuracy: 0.9996 - val_loss: 0.2055 - val_accuracy: 0.9458\n",
      "Epoch 52/100\n",
      "10789/10789 [==============================] - 2s 190us/sample - loss: 7.8398e-04 - accuracy: 0.9995 - val_loss: 0.2039 - val_accuracy: 0.9458\n",
      "Epoch 53/100\n",
      "10789/10789 [==============================] - 2s 191us/sample - loss: 7.2720e-04 - accuracy: 0.9997 - val_loss: 0.2027 - val_accuracy: 0.9466\n",
      "Epoch 54/100\n"
     ]
    },
    {
     "name": "stdout",
     "output_type": "stream",
     "text": [
      "10789/10789 [==============================] - 2s 181us/sample - loss: 8.1061e-04 - accuracy: 0.9995 - val_loss: 0.2023 - val_accuracy: 0.9450\n",
      "Epoch 55/100\n",
      "10789/10789 [==============================] - 2s 176us/sample - loss: 7.9952e-04 - accuracy: 0.9995 - val_loss: 0.2008 - val_accuracy: 0.9475\n",
      "Epoch 56/100\n",
      "10789/10789 [==============================] - 2s 172us/sample - loss: 7.5442e-04 - accuracy: 0.9996 - val_loss: 0.2007 - val_accuracy: 0.9458\n",
      "Epoch 57/100\n",
      "10789/10789 [==============================] - 2s 173us/sample - loss: 7.3751e-04 - accuracy: 0.9996 - val_loss: 0.1992 - val_accuracy: 0.9475\n",
      "Epoch 58/100\n",
      "10789/10789 [==============================] - 2s 174us/sample - loss: 7.5943e-04 - accuracy: 0.9995 - val_loss: 0.1985 - val_accuracy: 0.9458\n",
      "Epoch 59/100\n",
      "10789/10789 [==============================] - 2s 173us/sample - loss: 7.1516e-04 - accuracy: 0.9997 - val_loss: 0.1983 - val_accuracy: 0.9466\n",
      "Epoch 60/100\n",
      "10789/10789 [==============================] - 2s 172us/sample - loss: 7.0707e-04 - accuracy: 0.9996 - val_loss: 0.1974 - val_accuracy: 0.9466\n",
      "Epoch 61/100\n",
      "10789/10789 [==============================] - 2s 172us/sample - loss: 8.1242e-04 - accuracy: 0.9995 - val_loss: 0.1965 - val_accuracy: 0.9466\n",
      "Epoch 62/100\n",
      "10789/10789 [==============================] - 2s 172us/sample - loss: 8.3483e-04 - accuracy: 0.9996 - val_loss: 0.1966 - val_accuracy: 0.9458\n"
     ]
    },
    {
     "data": {
      "text/plain": [
       "<tensorflow.python.keras.callbacks.History at 0x7f9a4afefbd0>"
      ]
     },
     "execution_count": 86,
     "metadata": {},
     "output_type": "execute_result"
    }
   ],
   "source": [
    "model.fit(X_train,y_train,epochs=100, batch_size=512, validation_data=(X_test, y_test),\n",
    "          callbacks=[tf.keras.callbacks.EarlyStopping(),\n",
    "                     tf.keras.callbacks.TensorBoard(log_dir='./graph', write_graph=True, write_images=True)])"
   ]
  },
  {
   "cell_type": "code",
   "execution_count": null,
   "metadata": {},
   "outputs": [],
   "source": []
  },
  {
   "cell_type": "code",
   "execution_count": 87,
   "metadata": {},
   "outputs": [],
   "source": [
    "model.save('model.h5')"
   ]
  },
  {
   "cell_type": "code",
   "execution_count": 88,
   "metadata": {},
   "outputs": [],
   "source": [
    "import pickle"
   ]
  },
  {
   "cell_type": "code",
   "execution_count": 89,
   "metadata": {},
   "outputs": [],
   "source": [
    "with open('tokenizer.json', 'wb') as handle:\n",
    "    pickle.dump(tok, handle, protocol=pickle.HIGHEST_PROTOCOL)"
   ]
  },
  {
   "cell_type": "code",
   "execution_count": 90,
   "metadata": {},
   "outputs": [],
   "source": [
    "with open('tokenizer.json', 'rb') as handle:\n",
    "    tokenizer = pickle.load(handle)"
   ]
  },
  {
   "cell_type": "code",
   "execution_count": 91,
   "metadata": {},
   "outputs": [],
   "source": [
    "## Just testing :) "
   ]
  },
  {
   "cell_type": "code",
   "execution_count": 96,
   "metadata": {},
   "outputs": [],
   "source": [
    "test_text = ['hello world my name is something']"
   ]
  },
  {
   "cell_type": "code",
   "execution_count": 97,
   "metadata": {},
   "outputs": [],
   "source": [
    "text = tf.keras.preprocessing.sequence.pad_sequences(tok.texts_to_sequences(test_text), maxlen=60)"
   ]
  },
  {
   "cell_type": "code",
   "execution_count": 98,
   "metadata": {},
   "outputs": [
    {
     "data": {
      "text/plain": [
       "'English'"
      ]
     },
     "execution_count": 98,
     "metadata": {},
     "output_type": "execute_result"
    }
   ],
   "source": [
    "languages.get(model.predict_classes(text)[0])"
   ]
  },
  {
   "cell_type": "code",
   "execution_count": null,
   "metadata": {},
   "outputs": [],
   "source": []
  },
  {
   "cell_type": "code",
   "execution_count": 99,
   "metadata": {
    "scrolled": true
   },
   "outputs": [
    {
     "data": {
      "text/plain": [
       "[[2313, 806, 3938, 31, 8080]]"
      ]
     },
     "execution_count": 99,
     "metadata": {},
     "output_type": "execute_result"
    }
   ],
   "source": [
    "tokenizer.texts_to_sequences(test_text)"
   ]
  },
  {
   "cell_type": "code",
   "execution_count": 102,
   "metadata": {},
   "outputs": [],
   "source": [
    "text = tf.keras.preprocessing.sequence.pad_sequences(tokenizer.texts_to_sequences(test_text), maxlen=60)"
   ]
  },
  {
   "cell_type": "code",
   "execution_count": 103,
   "metadata": {},
   "outputs": [
    {
     "data": {
      "text/plain": [
       "'English'"
      ]
     },
     "execution_count": 103,
     "metadata": {},
     "output_type": "execute_result"
    }
   ],
   "source": [
    "languages.get(model.predict_classes(text)[0])"
   ]
  },
  {
   "cell_type": "code",
   "execution_count": null,
   "metadata": {},
   "outputs": [],
   "source": []
  }
 ],
 "metadata": {
  "kernelspec": {
   "display_name": "Python 3",
   "language": "python",
   "name": "python3"
  },
  "language_info": {
   "codemirror_mode": {
    "name": "ipython",
    "version": 3
   },
   "file_extension": ".py",
   "mimetype": "text/x-python",
   "name": "python",
   "nbconvert_exporter": "python",
   "pygments_lexer": "ipython3",
   "version": "3.7.6"
  }
 },
 "nbformat": 4,
 "nbformat_minor": 2
}
